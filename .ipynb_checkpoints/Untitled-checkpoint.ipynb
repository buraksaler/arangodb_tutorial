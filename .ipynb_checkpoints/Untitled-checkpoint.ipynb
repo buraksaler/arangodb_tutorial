{
 "cells": [
  {
   "cell_type": "code",
   "execution_count": 15,
   "id": "8c8bd3b1",
   "metadata": {},
   "outputs": [],
   "source": [
    "from pyArango.connection import *\n",
    "conn = Connection(username=\"root\", password=\"12345\")"
   ]
  },
  {
   "cell_type": "code",
   "execution_count": 16,
   "id": "f7e47c12",
   "metadata": {},
   "outputs": [],
   "source": [
    "db = conn[\"mydev\"]\n",
    "collection = db[\"mydevCollection\"]"
   ]
  },
  {
   "cell_type": "code",
   "execution_count": 17,
   "id": "89c971cc",
   "metadata": {},
   "outputs": [
    {
     "data": {
      "text/plain": [
       "ArangoDoc '_id: None, _key: None, _rev: None': <store: {'firstName': 'Burak', 'lastName': 'Saler', 'age': 23}>"
      ]
     },
     "execution_count": 17,
     "metadata": {},
     "output_type": "execute_result"
    }
   ],
   "source": [
    "doc1 = collection.createDocument()\n",
    "doc1[\"firstName\"] = \"Burak\"\n",
    "doc1[\"lastName\"] = \"Saler\"\n",
    "doc1[\"age\"] = 23\n",
    "doc1"
   ]
  },
  {
   "cell_type": "code",
   "execution_count": 18,
   "id": "59360354",
   "metadata": {},
   "outputs": [
    {
     "data": {
      "text/plain": [
       "ArangoDoc '_id: mydevCollection/buraksaler, _key: buraksaler, _rev: _fBbg25a---': <store: {'firstName': 'Burak', 'lastName': 'Saler', 'age': 23}>"
      ]
     },
     "execution_count": 18,
     "metadata": {},
     "output_type": "execute_result"
    }
   ],
   "source": [
    "doc1._key = \"buraksaler\"\n",
    "doc1.save()\n",
    "doc1"
   ]
  },
  {
   "cell_type": "code",
   "execution_count": 26,
   "id": "a861c178",
   "metadata": {},
   "outputs": [],
   "source": [
    "students = [('Fyodor', 'Dostoevskyq', 3.1),('Mqark', 'Twain', 3.0), ('Kateq', 'Chopin', 3.8)]\n",
    "for (first, last, gpa) in students:\n",
    "    doc = collection.createDocument()\n",
    "    doc['name'] = \"%s %s\" % (first, last)\n",
    "    doc['gpa'] = gpa \n",
    "    doc['year'] = 2017\n",
    "    doc._key = \"\".join([first, last]).lower()\n",
    "    doc.save()"
   ]
  },
  {
   "cell_type": "code",
   "execution_count": null,
   "id": "b8d6604d",
   "metadata": {},
   "outputs": [],
   "source": []
  },
  {
   "cell_type": "code",
   "execution_count": null,
   "id": "358a9561-50d6-48d6-b987-1d751db60499",
   "metadata": {},
   "outputs": [],
   "source": []
  },
  {
   "cell_type": "code",
   "execution_count": null,
   "id": "f3a77fc7-630f-42b9-8a69-f84d95e3c454",
   "metadata": {},
   "outputs": [],
   "source": []
  },
  {
   "cell_type": "code",
   "execution_count": null,
   "id": "b743b84c-3b65-4e0c-9c1b-fbe50d6cf8a4",
   "metadata": {},
   "outputs": [],
   "source": []
  }
 ],
 "metadata": {
  "kernelspec": {
   "display_name": "Python 3 (ipykernel)",
   "language": "python",
   "name": "python3"
  },
  "language_info": {
   "codemirror_mode": {
    "name": "ipython",
    "version": 3
   },
   "file_extension": ".py",
   "mimetype": "text/x-python",
   "name": "python",
   "nbconvert_exporter": "python",
   "pygments_lexer": "ipython3",
   "version": "3.10.6"
  }
 },
 "nbformat": 4,
 "nbformat_minor": 5
}

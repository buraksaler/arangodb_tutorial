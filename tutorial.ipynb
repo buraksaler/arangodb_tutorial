{
 "cells": [
  {
   "cell_type": "code",
   "execution_count": 54,
   "id": "8c8bd3b1",
   "metadata": {},
   "outputs": [],
   "source": [
    "from pyArango.connection import *\n",
    "conn = Connection(username=\"root\", password=\"12345\")"
   ]
  },
  {
   "cell_type": "code",
   "execution_count": 55,
   "id": "f7e47c12",
   "metadata": {},
   "outputs": [],
   "source": [
    "db = conn[\"mydev\"]\n",
    "collection = db[\"mydevCollection\"]"
   ]
  },
  {
   "cell_type": "code",
   "execution_count": 56,
   "id": "89c971cc",
   "metadata": {},
   "outputs": [],
   "source": [
    "# doc1 = collection.createDocument()\n",
    "# doc1[\"firstName\"] = \"Burak\"\n",
    "# doc1[\"lastName\"] = \"Saler\"\n",
    "# doc1[\"age\"] = 23\n",
    "# doc1"
   ]
  },
  {
   "cell_type": "code",
   "execution_count": 57,
   "id": "59360354",
   "metadata": {},
   "outputs": [],
   "source": [
    "# doc1._key = \"buraksalqer\"\n",
    "# doc1.save()\n",
    "# doc1"
   ]
  },
  {
   "cell_type": "code",
   "execution_count": 58,
   "id": "a861c178",
   "metadata": {},
   "outputs": [],
   "source": [
    "# students = [('Fyodor', 'Dostoevsqkyq', 3.1),('Mqark', 'Tqwain', 3.0), ('Kateq', 'Chqopin', 3.8)]\n",
    "# for (first, last, gpa) in students:\n",
    "#     doc = collection.createDocument()\n",
    "#     doc['name'] = \"%s %s\" % (first, last)\n",
    "#     doc['gpa'] = gpa \n",
    "#     doc['year'] = 2017\n",
    "#     doc._key = \"\".join([first, last]).lower()\n",
    "#     doc.save()\n"
   ]
  },
  {
   "cell_type": "code",
   "execution_count": 59,
   "id": "b8d6604d",
   "metadata": {},
   "outputs": [],
   "source": [
    "# def report_gpa(document):\n",
    "#   print(\"Student: %s\" % document[\"name\"])\n",
    "#   print(\"GPA:     %s\" % document[\"gpa\"])\n",
    "# kate = collection['katechopin']\n",
    "# report_gpa(kate)\n"
   ]
  },
  {
   "cell_type": "code",
   "execution_count": 60,
   "id": "358a9561-50d6-48d6-b987-1d751db60499",
   "metadata": {},
   "outputs": [],
   "source": [
    "# def update_gpa(key, new_gpa):\n",
    "#   doc = collection[key]\n",
    "#   doc['gpa'] = new_gpa\n",
    "#   doc.save()\n",
    "# update_gpa('katechopin', 2.33)\n",
    "# kate = collection['katechopin']\n",
    "# report_gpa(kate)"
   ]
  },
  {
   "cell_type": "code",
   "execution_count": 61,
   "id": "f3a77fc7-630f-42b9-8a69-f84d95e3c454",
   "metadata": {},
   "outputs": [],
   "source": [
    "# def top_scores(col, gpa):\n",
    "#   print(\"Top Scoring Students:\")\n",
    "#   for student in col.fetchAll():\n",
    "#     if student['gpa'] >= gpa:\n",
    "#       print(\"- %s\" % student['name'])\n",
    "\n",
    "# top_scores(collection, 0)"
   ]
  },
  {
   "cell_type": "code",
   "execution_count": 62,
   "id": "b743b84c-3b65-4e0c-9c1b-fbe50d6cf8a4",
   "metadata": {},
   "outputs": [],
   "source": [
    "# kateq = collection[\"kateqchqopin\"]\n",
    "# kateq.delete()\n"
   ]
  },
  {
   "cell_type": "code",
   "execution_count": 63,
   "id": "314e5d94",
   "metadata": {},
   "outputs": [
    {
     "name": "stdout",
     "output_type": "stream",
     "text": [
      "nuribilge\n",
      "nuribilge2\n",
      "nuribilge213\n",
      "nuribilge23\n"
     ]
    }
   ],
   "source": [
    "aql = \"FOR x IN mydevCollection RETURN x._key\"\n",
    "queryResult = db.AQLQuery(aql, rawResults=True, batchSize=100)\n",
    "for key in queryResult:\n",
    "  print(key)\n",
    "  "
   ]
  },
  {
   "cell_type": "code",
   "execution_count": 64,
   "id": "f344424b",
   "metadata": {},
   "outputs": [],
   "source": [
    "# doc = {'_key': 'nuribilge213', 'name': 'Nuri Bilge', 'gpa': 3.1}\n",
    "# bind = {\"doc\": doc}\n",
    "# aql = \"INSERT @doc INTO mydevCollection LET newDoc = NEW RETURN newDoc\"\n",
    "# queryResult = db.AQLQuery(aql, bindVars=bind)\n",
    "\n",
    "# print(queryResult[0])"
   ]
  },
  {
   "cell_type": "code",
   "execution_count": 65,
   "id": "32fa3f91",
   "metadata": {},
   "outputs": [],
   "source": [
    "# db[\"mydevCollection\"][\"katechopin\"].name"
   ]
  },
  {
   "cell_type": "code",
   "execution_count": 71,
   "id": "475f4e27",
   "metadata": {},
   "outputs": [
    {
     "ename": "IndexError",
     "evalue": "list index out of range",
     "output_type": "error",
     "traceback": [
      "\u001b[0;31m---------------------------------------------------------------------------\u001b[0m",
      "\u001b[0;31mIndexError\u001b[0m                                Traceback (most recent call last)",
      "\u001b[0;32m/tmp/ipykernel_4391/31197672.py\u001b[0m in \u001b[0;36m<module>\u001b[0;34m\u001b[0m\n\u001b[1;32m      7\u001b[0m \"\"\"\n\u001b[1;32m      8\u001b[0m \u001b[0mqueryResult\u001b[0m \u001b[0;34m=\u001b[0m \u001b[0mdb\u001b[0m\u001b[0;34m.\u001b[0m\u001b[0mAQLQuery\u001b[0m\u001b[0;34m(\u001b[0m\u001b[0maql\u001b[0m\u001b[0;34m,\u001b[0m \u001b[0mbindVars\u001b[0m\u001b[0;34m=\u001b[0m\u001b[0mbind\u001b[0m\u001b[0;34m)\u001b[0m\u001b[0;34m\u001b[0m\u001b[0;34m\u001b[0m\u001b[0m\n\u001b[0;32m----> 9\u001b[0;31m \u001b[0mqueryResult\u001b[0m\u001b[0;34m[\u001b[0m\u001b[0;36m0\u001b[0m\u001b[0;34m]\u001b[0m\u001b[0;34m\u001b[0m\u001b[0;34m\u001b[0m\u001b[0m\n\u001b[0m",
      "\u001b[0;32m~/.local/lib/python3.10/site-packages/pyArango/query.py\u001b[0m in \u001b[0;36m__getitem__\u001b[0;34m(self, i)\u001b[0m\n\u001b[1;32m    115\u001b[0m     \u001b[0;32mdef\u001b[0m \u001b[0m__getitem__\u001b[0m\u001b[0;34m(\u001b[0m\u001b[0mself\u001b[0m\u001b[0;34m,\u001b[0m \u001b[0mi\u001b[0m\u001b[0;34m)\u001b[0m\u001b[0;34m:\u001b[0m\u001b[0;34m\u001b[0m\u001b[0;34m\u001b[0m\u001b[0m\n\u001b[1;32m    116\u001b[0m         \u001b[0;34m\"returns a ith result of the query. Raises IndexError if we reached the end of the current batch.\"\u001b[0m\u001b[0;34m\u001b[0m\u001b[0;34m\u001b[0m\u001b[0m\n\u001b[0;32m--> 117\u001b[0;31m         \u001b[0;32mif\u001b[0m \u001b[0;32mnot\u001b[0m \u001b[0mself\u001b[0m\u001b[0;34m.\u001b[0m\u001b[0mrawResults\u001b[0m \u001b[0;32mand\u001b[0m \u001b[0;34m(\u001b[0m\u001b[0;32mnot\u001b[0m \u001b[0misinstance\u001b[0m\u001b[0;34m(\u001b[0m\u001b[0mself\u001b[0m\u001b[0;34m.\u001b[0m\u001b[0mresult\u001b[0m\u001b[0;34m[\u001b[0m\u001b[0mi\u001b[0m\u001b[0;34m]\u001b[0m\u001b[0;34m,\u001b[0m \u001b[0;34m(\u001b[0m\u001b[0mEdge\u001b[0m\u001b[0;34m,\u001b[0m \u001b[0mDocument\u001b[0m\u001b[0;34m)\u001b[0m\u001b[0;34m)\u001b[0m\u001b[0;34m)\u001b[0m\u001b[0;34m:\u001b[0m\u001b[0;34m\u001b[0m\u001b[0;34m\u001b[0m\u001b[0m\n\u001b[0m\u001b[1;32m    118\u001b[0m             \u001b[0mself\u001b[0m\u001b[0;34m.\u001b[0m\u001b[0m_developDoc\u001b[0m\u001b[0;34m(\u001b[0m\u001b[0mi\u001b[0m\u001b[0;34m)\u001b[0m\u001b[0;34m\u001b[0m\u001b[0;34m\u001b[0m\u001b[0m\n\u001b[1;32m    119\u001b[0m         \u001b[0;32mreturn\u001b[0m \u001b[0mself\u001b[0m\u001b[0;34m.\u001b[0m\u001b[0mresult\u001b[0m\u001b[0;34m[\u001b[0m\u001b[0mi\u001b[0m\u001b[0;34m]\u001b[0m\u001b[0;34m\u001b[0m\u001b[0;34m\u001b[0m\u001b[0m\n",
      "\u001b[0;31mIndexError\u001b[0m: list index out of range"
     ]
    }
   ],
   "source": [
    "bind = {\"@collection\": \"mydevCollection\"}\n",
    "aql = \"\"\"\n",
    "  FOR x IN @@collection\n",
    "    FILTER x.gpa < 3 \n",
    "    REMOVE x IN @@collection\n",
    "      LET removed = OLD RETURN removed\n",
    "\"\"\"\n",
    "queryResult = db.AQLQuery(aql, bindVars=bind)\n",
    "queryResult[0]\n"
   ]
  }
 ],
 "metadata": {
  "kernelspec": {
   "display_name": "Python 3.10.6 64-bit",
   "language": "python",
   "name": "python3"
  },
  "language_info": {
   "codemirror_mode": {
    "name": "ipython",
    "version": 3
   },
   "file_extension": ".py",
   "mimetype": "text/x-python",
   "name": "python",
   "nbconvert_exporter": "python",
   "pygments_lexer": "ipython3",
   "version": "3.10.6"
  },
  "vscode": {
   "interpreter": {
    "hash": "916dbcbb3f70747c44a77c7bcd40155683ae19c65e1c03b4aa3499c5328201f1"
   }
  }
 },
 "nbformat": 4,
 "nbformat_minor": 5
}

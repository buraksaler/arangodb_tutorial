{
 "cells": [
  {
   "cell_type": "code",
   "execution_count": 7,
   "id": "8c8bd3b1",
   "metadata": {},
   "outputs": [],
   "source": [
    "from pyArango.connection import *\n",
    "conn = Connection(username=\"root\", password=\"12345\")"
   ]
  },
  {
   "cell_type": "code",
   "execution_count": 8,
   "id": "f7e47c12",
   "metadata": {},
   "outputs": [],
   "source": [
    "db = conn[\"mydev\"]\n",
    "collection = db[\"mydevCollection\"]"
   ]
  },
  {
   "cell_type": "code",
   "execution_count": 9,
   "id": "89c971cc",
   "metadata": {},
   "outputs": [],
   "source": [
    "# doc1 = collection.createDocument()\n",
    "# doc1[\"firstName\"] = \"Burak\"\n",
    "# doc1[\"lastName\"] = \"Saler\"\n",
    "# doc1[\"age\"] = 23\n",
    "# doc1"
   ]
  },
  {
   "cell_type": "code",
   "execution_count": 10,
   "id": "59360354",
   "metadata": {},
   "outputs": [],
   "source": [
    "# doc1._key = \"buraksalqer\"\n",
    "# doc1.save()\n",
    "# doc1"
   ]
  },
  {
   "cell_type": "code",
   "execution_count": 11,
   "id": "a861c178",
   "metadata": {},
   "outputs": [],
   "source": [
    "# students = [('Fyodor', 'Dostoevsqkyq', 3.1),('Mqark', 'Tqwain', 3.0), ('Kateq', 'Chqopin', 3.8)]\n",
    "# for (first, last, gpa) in students:\n",
    "#     doc = collection.createDocument()\n",
    "#     doc['name'] = \"%s %s\" % (first, last)\n",
    "#     doc['gpa'] = gpa \n",
    "#     doc['year'] = 2017\n",
    "#     doc._key = \"\".join([first, last]).lower()\n",
    "#     doc.save()\n"
   ]
  },
  {
   "cell_type": "code",
   "execution_count": 12,
   "id": "b8d6604d",
   "metadata": {},
   "outputs": [
    {
     "name": "stdout",
     "output_type": "stream",
     "text": [
      "Student: Kate Chopin\n",
      "GPA:     3.8\n"
     ]
    }
   ],
   "source": [
    "def report_gpa(document):\n",
    "  print(\"Student: %s\" % document[\"name\"])\n",
    "  print(\"GPA:     %s\" % document[\"gpa\"])\n",
    "kate = collection['katechopin']\n",
    "report_gpa(kate)\n"
   ]
  },
  {
   "cell_type": "code",
   "execution_count": 15,
   "id": "358a9561-50d6-48d6-b987-1d751db60499",
   "metadata": {},
   "outputs": [
    {
     "name": "stdout",
     "output_type": "stream",
     "text": [
      "Student: Kate Chopin\n",
      "GPA:     2.33\n"
     ]
    }
   ],
   "source": [
    "def update_gpa(key, new_gpa):\n",
    "  doc = collection[key]\n",
    "  doc['gpa'] = new_gpa\n",
    "  doc.save()\n",
    "update_gpa('katechopin', 2.33)\n",
    "kate = collection['katechopin']\n",
    "report_gpa(kate)"
   ]
  },
  {
   "cell_type": "code",
   "execution_count": 23,
   "id": "f3a77fc7-630f-42b9-8a69-f84d95e3c454",
   "metadata": {},
   "outputs": [
    {
     "name": "stdout",
     "output_type": "stream",
     "text": [
      "Top Scoring Students:\n",
      "- Oscar Wilde\n",
      "- Thomas Hobbes\n",
      "- Mark Twain\n",
      "- Fyodor Dostoevsky\n",
      "- Fyodor Dostoevsqkyq\n",
      "- Mqark Tqwain\n",
      "- Kateq Chqopin\n",
      "- Kate Chopin\n"
     ]
    }
   ],
   "source": [
    "def top_scores(col, gpa):\n",
    "  print(\"Top Scoring Students:\")\n",
    "  for student in col.fetchAll():\n",
    "    if student['gpa'] >= gpa:\n",
    "      print(\"- %s\" % student['name'])\n",
    "\n",
    "top_scores(collection, 0)"
   ]
  },
  {
   "cell_type": "code",
   "execution_count": null,
   "id": "b743b84c-3b65-4e0c-9c1b-fbe50d6cf8a4",
   "metadata": {},
   "outputs": [],
   "source": [
    "kateq = collection[\"kateqchqopin\"]\n",
    "kateq.delete()\n"
   ]
  }
 ],
 "metadata": {
  "kernelspec": {
   "display_name": "Python 3.10.6 64-bit",
   "language": "python",
   "name": "python3"
  },
  "language_info": {
   "codemirror_mode": {
    "name": "ipython",
    "version": 3
   },
   "file_extension": ".py",
   "mimetype": "text/x-python",
   "name": "python",
   "nbconvert_exporter": "python",
   "pygments_lexer": "ipython3",
   "version": "3.10.6"
  },
  "vscode": {
   "interpreter": {
    "hash": "916dbcbb3f70747c44a77c7bcd40155683ae19c65e1c03b4aa3499c5328201f1"
   }
  }
 },
 "nbformat": 4,
 "nbformat_minor": 5
}
